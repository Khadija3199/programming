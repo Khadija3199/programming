{
 "cells": [
  {
   "cell_type": "markdown",
   "metadata": {},
   "source": [
    "# Elementi di Programmazione\n",
    "\n",
    "Un linguaggio di programmazione serve sia per istruire una macchina ad eseguire dei conti, che per organizzare le nostre idee su come quei conti devono essere eseguiti. Per questo, nella scelta di un linguaggio di programmazione, dobbiamo tener presente quali sono gli strumenti che vengono offerti dal linguaggio per formare idee più complesse partendo da poche idee semplici.\n",
    "\n",
    "Ogni linguaggio di programmazione dovrebbe avere almeno tre caratteristiche per ottenere questo obiettivo:\n",
    "\n",
    "1. Delle **espressioni primitive** che rappresentano le entità più semplici del linguaggio\n",
    "\n",
    "2. Dei metodi per **combinare** gli elementi primitivi in elementi composti\n",
    "\n",
    "3. Dei metodi per **astrarre** concetti primitivi in modo che gli elementi composti possano essere utilizzati a loro volta come elementi primitivi di entità ancora più complesse\n",
    "\n",
    "In programmazione abbiamo due tipi di elementi: le PROCEDURE e i DATI.\n",
    "\n",
    "In modo informale possiamo definire i **dati** come gli oggetti che vorremmo manipolare, e le **procedure** come la descrizione delle regole per manipolare i dati. Quindi, per quanto spiegato sopra, un linguaggio dovrebbe avere dei **dati primitivi** e delle **procedure primitive**, e dovrebbe avere dei metodi per combinare e astrarre i dati e le procedure.\n",
    "\n",
    "## Dati e procedure numeriche\n",
    "Iniziamo a vedere qualche semplice iterazione con l'interprete di Python: se digitiamo sulla tastiera una **espressione**, l'interprete risponde **valutando** tale espressione. Per esempio se digitiamo il numero 345 e poi premiamo la combinazione di tasti `shift + enter`, l'interprete valuta l'espressione che abbiamo appena scritto:"
   ]
  },
  {
   "cell_type": "code",
   "execution_count": null,
   "metadata": {},
   "outputs": [],
   "source": [
    "345"
   ]
  },
  {
   "cell_type": "markdown",
   "metadata": {},
   "source": [
    "Semplici espressioni numeriche possono essere combinate usando delle procedure primitive che rappresentano l'applicazione di procedure a quei numeri. Per esempio:"
   ]
  },
  {
   "cell_type": "code",
   "execution_count": null,
   "metadata": {},
   "outputs": [],
   "source": [
    "339 + 6"
   ]
  },
  {
   "cell_type": "code",
   "execution_count": null,
   "metadata": {},
   "outputs": [],
   "source": [
    "345 - 6"
   ]
  },
  {
   "cell_type": "code",
   "execution_count": null,
   "metadata": {},
   "outputs": [],
   "source": [
    "2.7 / 12.1"
   ]
  },
  {
   "cell_type": "code",
   "execution_count": null,
   "metadata": {},
   "outputs": [],
   "source": [
    "345 - 12/6"
   ]
  },
  {
   "cell_type": "markdown",
   "metadata": {},
   "source": [
    "Si noti come in questo caso, per queste semplici procedure numeriche che corrispondono agli operatori aritmetici, viene implicitamente usata una notazione chiamata **postfix**. Importando la libreria `operator` è possibile esprimere le stesse espressioni in notazione **prefix**:"
   ]
  },
  {
   "cell_type": "code",
   "execution_count": null,
   "metadata": {},
   "outputs": [],
   "source": [
    "# Importa tutte le procedure (funzioni) definite nel modulo \"operator\"\n",
    "from operator import *"
   ]
  },
  {
   "cell_type": "markdown",
   "metadata": {},
   "source": [
    "Si consiglia di leggere la **documentazione** della libreria `operator` sul sito di [python](https://docs.python.org/3.6/library/operator.html). Le funzioni principali che useremo in questo notebook sono:\n",
    "\n",
    "* `add(a,b)` corrisponde ad `a+b`\n",
    "* `sub(a,b)` corrisponde ad `a-b`\n",
    "* `mul(a,b)` corrisponde ad `a*b`\n",
    "* `truediv(a,b)` corrisponde ad `a/b`\n",
    "\n",
    "Per esempio:"
   ]
  },
  {
   "cell_type": "code",
   "execution_count": null,
   "metadata": {},
   "outputs": [],
   "source": [
    "add(339, 6)"
   ]
  },
  {
   "cell_type": "markdown",
   "metadata": {},
   "source": [
    "Uno dei vantaggi della notazione **prefix** è che rende sempre chiaro qual è l'operatore/procedura che deve essere svolta, applicandola a quali dati: `add` è il nome dell'operatore, mentre tra parentesi sono definiti i due dati numerici a cui deve essere applicata l'operazione."
   ]
  },
  {
   "cell_type": "code",
   "execution_count": null,
   "metadata": {},
   "outputs": [],
   "source": [
    "sub(345, truediv(12, 6))"
   ]
  },
  {
   "cell_type": "code",
   "execution_count": null,
   "metadata": {},
   "outputs": [],
   "source": [
    "mul(add(2,3), (sub(add(2,2), add(3,2))))"
   ]
  },
  {
   "cell_type": "markdown",
   "metadata": {},
   "source": [
    "Si noti come l'espressione precedente sarebbe più chiara se scritta come:\n",
    "\n",
    "```\n",
    "mul(\n",
    "    add(2, 3),\n",
    "    sub(\n",
    "        add(2, 2),\n",
    "        add(3, 2)\n",
    "    )\n",
    ")\n",
    "```"
   ]
  },
  {
   "cell_type": "markdown",
   "metadata": {},
   "source": [
    "In questo caso l'interprete lavora in un ciclo chiamato \"leggi-valuta-stampa\": legge le espressioni composte e le espressioni primitive, le valuta nell'ordine in cui le trova, e stampa alla fine il risultato finale."
   ]
  },
  {
   "cell_type": "markdown",
   "metadata": {},
   "source": [
    "## Assegnazione di nomi ad oggetti\n",
    "Un aspetto critico della programmazione è il modo in cui vengono assegnati i nomi agli oggetti computazionali.\n",
    "Si dice che un **nome** identifica una **variabile** il cui valore è l'oggetto a cui viene associato. Per esempio:"
   ]
  },
  {
   "cell_type": "code",
   "execution_count": null,
   "metadata": {},
   "outputs": [],
   "source": [
    "a = 13"
   ]
  },
  {
   "cell_type": "markdown",
   "metadata": {},
   "source": [
    "In questo caso abbiamo una variabile, che abbiamo chiamato `a`, e il cui **valore** è il numero 13. A questo punto possiamo usare la variabile `a` come un oggetto di tipo numerico:"
   ]
  },
  {
   "cell_type": "code",
   "execution_count": null,
   "metadata": {},
   "outputs": [],
   "source": [
    "3*a"
   ]
  },
  {
   "cell_type": "code",
   "execution_count": null,
   "metadata": {},
   "outputs": [],
   "source": [
    "add(a, add(a,a))"
   ]
  },
  {
   "cell_type": "code",
   "execution_count": null,
   "metadata": {},
   "outputs": [],
   "source": [
    "pi = 3.14159"
   ]
  },
  {
   "cell_type": "code",
   "execution_count": null,
   "metadata": {},
   "outputs": [],
   "source": [
    "raggio = 5"
   ]
  },
  {
   "cell_type": "code",
   "execution_count": null,
   "metadata": {},
   "outputs": [],
   "source": [
    "circonferenza = 2*pi*raggio"
   ]
  },
  {
   "cell_type": "code",
   "execution_count": null,
   "metadata": {},
   "outputs": [],
   "source": [
    "circonferenza"
   ]
  },
  {
   "cell_type": "code",
   "execution_count": null,
   "metadata": {},
   "outputs": [],
   "source": [
    "raggio = 10"
   ]
  },
  {
   "cell_type": "code",
   "execution_count": null,
   "metadata": {},
   "outputs": [],
   "source": [
    "circonferenza"
   ]
  },
  {
   "cell_type": "markdown",
   "metadata": {},
   "source": [
    "In questo caso, l'interprete del linguaggio, ha prima valutato l'espressione `2*pi*raggio`, e dopo ha assegnato il **valore** ottenuto dalla valutazione dell'**espressione** alla variabile di nome `circonferenza`.\n",
    "\n",
    "In questo caso, l'operatore di assegnamento `=` rappresenta il più semplice meccanismo di astrazione, perché permette di dare un **nome** al risultato di operazioni più complesse. \n",
    "\n",
    "In pratica, qualsiasi programma viene costruito partendo dalla costruzione, passo passo, di oggetti computazionali via via più complessi.\n",
    "\n",
    "L'uso di un interprete, che in modo incrementale valute le **espressioni** che li vengono passate, favorisce la definizione di tante piccole procedure, innestate l'uno nell'altra.\n",
    "\n",
    "Dovrebbe essere chiaro a questo punto, che l'interprete deve mantenere una sorta di **MEMORIA** che tiene traccia di tutti gli assegnamenti di nomi a oggetti, chiamato il `global environment`. Per vedere quali sono i nomi memorizzati in memoria si usa il comando `who`:"
   ]
  },
  {
   "cell_type": "code",
   "execution_count": null,
   "metadata": {},
   "outputs": [],
   "source": [
    "who"
   ]
  },
  {
   "cell_type": "markdown",
   "metadata": {},
   "source": [
    "## La valutazione di espressioni composte\n",
    "Uno degli obiettivo di questo corso è di insegnare a pensare in maniera \"*algoritmica*\". Proviamo ad analizzare come l'interprete del linguaggio valuta operazioni composte come quelle viste prima. In pratica, la valutazione di operazioni composte avviene attraverso la procedura seguente:\n",
    "\n",
    "1. Per valutare un'espressione composta:\n",
    "\n",
    "1.1 Prima, valuta le sottoespressioni della espressioni composta\n",
    "\n",
    "1.2 Applica la procedura indicata dalla sottoespressioni più a sinistra (l'operatore), agli argomenti che sono i valori della sottoespressione (gli operandi).\n",
    "    \n",
    "Si noti come questa procedura per valutare un'operazione composta, per prima cosa deve eseguire il processo di valutazione a ogni elemento dell'espressione composta. Quindi la regola di valutazione di un'espressione è intrinsecamente **RICORSIVA**, ovvero include come uno dei suoi passi la chiamata a se stessa.\n",
    "\n",
    "NOTA: mostrare alla lavagna un *recursion tree* con l'espressione precedente."
   ]
  },
  {
   "cell_type": "markdown",
   "metadata": {},
   "source": [
    "## Definizione di procedure composte\n",
    "Abbiamo identificato alcuni elementi che devono appartenere ad un linguaggio di programmazione:\n",
    "\n",
    "1. I numeri e le operazioni aritmetiche sono **dati** e **procedure** primitive (in gergo, vengono chiamate *builtin*)\n",
    "2. L'**annidamento di espressioni** composte offrono un meccanismo per comporre delle operazioni\n",
    "3. Gli **assegnamenti** di nomi di variabili a valori offrono un livello di astrazione piuttosto limitato\n",
    "\n",
    "Abbiamo quindi bisogno di un modo per poter **definire nuove procedure**, in modo che una nuova operazione possa essere definita in termini di composizione di operazioni più semplici.\n",
    "\n",
    "Consideriamo per esempio una procedura di elevamento al quadrato."
   ]
  },
  {
   "cell_type": "code",
   "execution_count": null,
   "metadata": {},
   "outputs": [],
   "source": [
    "quadrato = mul(3, 3)"
   ]
  },
  {
   "cell_type": "code",
   "execution_count": null,
   "metadata": {},
   "outputs": [],
   "source": [
    "quadrato"
   ]
  },
  {
   "cell_type": "code",
   "execution_count": null,
   "metadata": {},
   "outputs": [],
   "source": [
    "power = mul(x,x)\n",
    "print(power)"
   ]
  },
  {
   "cell_type": "code",
   "execution_count": null,
   "metadata": {},
   "outputs": [],
   "source": [
    "x = 7"
   ]
  },
  {
   "cell_type": "markdown",
   "metadata": {},
   "source": [
    "Per ottenere un livello di astrazione più alto abbiamo bisogno di un meccanismo (una sintassi del linguaggio) per definire nuove procedure (funzioni). La sintassi è la seguente:\n",
    "\n",
    "```\n",
    "def <Nome>(<parametri formali>):\n",
    "    <corpo della procedura>\n",
    "```\n",
    "\n",
    "Si noti come sia apparsa la prima *parole chiave riservata* del linguaggio: **def**. Inoltre, `<Nome>` è il nome che noi vogliamo associare alla procedura (funzione) che stiamo definendo, e i `<parametri formali>` (chiamati argomenti della procedura) sono le variabili che non appartengono direttamente al *working eniviroment* (ovvero alla MEMORIA dell'interprete), ma sono \"visibili\" solo internamente alla procedura in cui sono definite.\n",
    "\n",
    "Se torniamo all'esempio delle definizione di una procedura per l'elevamento al quadrato, possiamo scrivere:"
   ]
  },
  {
   "cell_type": "code",
   "execution_count": null,
   "metadata": {},
   "outputs": [],
   "source": [
    "def Quadrato(numero):\n",
    "    return mul(numero, numero)"
   ]
  },
  {
   "cell_type": "code",
   "execution_count": null,
   "metadata": {},
   "outputs": [],
   "source": [
    "Quadrato"
   ]
  },
  {
   "cell_type": "code",
   "execution_count": null,
   "metadata": {},
   "outputs": [],
   "source": [
    "who"
   ]
  },
  {
   "cell_type": "code",
   "execution_count": null,
   "metadata": {},
   "outputs": [],
   "source": [
    "Quadrato(532)"
   ]
  },
  {
   "cell_type": "code",
   "execution_count": null,
   "metadata": {},
   "outputs": [],
   "source": [
    "quadrato(mul(3,2))"
   ]
  },
  {
   "cell_type": "markdown",
   "metadata": {},
   "source": [
    "A questo punto possiamo anche definire nuove procedure in termini della procedura appena definita, definendo per esempio una nuova procedura chiamata `SommaDiQuadrati`:"
   ]
  },
  {
   "cell_type": "code",
   "execution_count": null,
   "metadata": {},
   "outputs": [],
   "source": [
    "def SommaQuadrati(x, y):\n",
    "    return add(Quadrato(x), Quadrato(y))"
   ]
  },
  {
   "cell_type": "code",
   "execution_count": null,
   "metadata": {},
   "outputs": [],
   "source": [
    "SommaQuadrati(4,3)"
   ]
  },
  {
   "cell_type": "code",
   "execution_count": null,
   "metadata": {},
   "outputs": [],
   "source": [
    "x"
   ]
  },
  {
   "cell_type": "code",
   "execution_count": null,
   "metadata": {},
   "outputs": [],
   "source": [
    "del x"
   ]
  },
  {
   "cell_type": "markdown",
   "metadata": {},
   "source": [
    "**ESEMPIO**: considera la seguente espressione composta:"
   ]
  },
  {
   "cell_type": "code",
   "execution_count": null,
   "metadata": {},
   "outputs": [],
   "source": [
    "def F(a):\n",
    "    return SommaQuadrati(add(a, 1), mul(a, 2))"
   ]
  },
  {
   "cell_type": "code",
   "execution_count": null,
   "metadata": {},
   "outputs": [],
   "source": [
    "F(5)"
   ]
  },
  {
   "cell_type": "markdown",
   "metadata": {},
   "source": [
    "**DOMANDA**: come è stata valutata questa procedura?"
   ]
  },
  {
   "cell_type": "markdown",
   "metadata": {},
   "source": [
    "**DOMANDA**: con gli elementi del linguaggio sin qui introdotti, possiamo definire una funzione `ValoreAssoluto(x)`, ovvero \n",
    "\n",
    "$|x| = x$ se $x \\geq 0$, e $|x|=-x$ se $x < 0$? "
   ]
  },
  {
   "cell_type": "markdown",
   "metadata": {},
   "source": [
    "**RISPOSTA**: No, il linguaggio non è abbastanza *espressivo*."
   ]
  }
 ],
 "metadata": {
  "kernelspec": {
   "display_name": "Python [default]",
   "language": "python",
   "name": "python3"
  }
 },
 "nbformat": 4,
 "nbformat_minor": 2
}
