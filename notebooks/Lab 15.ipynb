{
 "cells": [
  {
   "cell_type": "markdown",
   "metadata": {},
   "source": [
    "# Uso di *self* nella definizione di una classe"
   ]
  },
  {
   "cell_type": "code",
   "execution_count": 1,
   "metadata": {
    "collapsed": true
   },
   "outputs": [],
   "source": [
    "class Studente(object):\n",
    "    nome = 'Stefano'\n",
    "    cognome = 'Gualandi'"
   ]
  },
  {
   "cell_type": "code",
   "execution_count": 24,
   "metadata": {
    "collapsed": false
   },
   "outputs": [
    {
     "name": "stdout",
     "output_type": "stream",
     "text": [
      "Stefano Gualandi\n"
     ]
    }
   ],
   "source": [
    "print(Studente.nome, Studente.cognome)"
   ]
  },
  {
   "cell_type": "code",
   "execution_count": 22,
   "metadata": {
    "collapsed": false
   },
   "outputs": [
    {
     "name": "stdout",
     "output_type": "stream",
     "text": [
      "Stefano\n"
     ]
    }
   ],
   "source": [
    "print(Studente().nome)"
   ]
  },
  {
   "cell_type": "code",
   "execution_count": 3,
   "metadata": {
    "collapsed": true
   },
   "outputs": [],
   "source": [
    "a = Studente()"
   ]
  },
  {
   "cell_type": "code",
   "execution_count": 23,
   "metadata": {
    "collapsed": false
   },
   "outputs": [
    {
     "name": "stdout",
     "output_type": "stream",
     "text": [
      "<__main__.Studente object at 0x000001E50E796588> 2083301975432\n"
     ]
    }
   ],
   "source": [
    "print(a, id(a))"
   ]
  },
  {
   "cell_type": "code",
   "execution_count": 5,
   "metadata": {
    "collapsed": false
   },
   "outputs": [
    {
     "name": "stdout",
     "output_type": "stream",
     "text": [
      "Stefano\n"
     ]
    }
   ],
   "source": [
    "print(a.nome)"
   ]
  },
  {
   "cell_type": "code",
   "execution_count": 25,
   "metadata": {
    "collapsed": false
   },
   "outputs": [
    {
     "name": "stdout",
     "output_type": "stream",
     "text": [
      "Kobe Bryant 2083302561216\n"
     ]
    }
   ],
   "source": [
    "b = Studente()\n",
    "b.nome = 'Kobe'\n",
    "b.cognome = 'Bryant'\n",
    "print(b.nome, b.cognome, id(b))"
   ]
  },
  {
   "cell_type": "code",
   "execution_count": 7,
   "metadata": {
    "collapsed": false
   },
   "outputs": [
    {
     "name": "stdout",
     "output_type": "stream",
     "text": [
      "Stefano Gualandi\n"
     ]
    }
   ],
   "source": [
    "print(a.nome, a.cognome)"
   ]
  },
  {
   "cell_type": "code",
   "execution_count": 16,
   "metadata": {
    "collapsed": true
   },
   "outputs": [],
   "source": [
    "def NuovoStudente(var, a, b):\n",
    "    var.nome = a\n",
    "    var.cognome = b\n",
    "    \n",
    "def PrintStudente(var):\n",
    "    print(\"{}, {}\".format(var.nome, var.cognome))"
   ]
  },
  {
   "cell_type": "code",
   "execution_count": 17,
   "metadata": {
    "collapsed": false
   },
   "outputs": [
    {
     "name": "stdout",
     "output_type": "stream",
     "text": [
      "Charlize, Theron\n"
     ]
    }
   ],
   "source": [
    "c = Studente()\n",
    "NuovoStudente(c, 'Charlize', 'Theron')\n",
    "PrintStudente(c)"
   ]
  },
  {
   "cell_type": "code",
   "execution_count": 18,
   "metadata": {
    "collapsed": true
   },
   "outputs": [],
   "source": [
    "class StudenteSelf(object):\n",
    "    def __init__(var, a, b):\n",
    "        var.nome = a\n",
    "        var.cognome = b\n",
    "        \n",
    "    def __str__(var):\n",
    "        return \"{}, {}\".format(var.nome, var.cognome)\n",
    "    "
   ]
  },
  {
   "cell_type": "code",
   "execution_count": 19,
   "metadata": {
    "collapsed": false
   },
   "outputs": [
    {
     "name": "stdout",
     "output_type": "stream",
     "text": [
      "Charlize, Theron\n"
     ]
    }
   ],
   "source": [
    "c = StudenteSelf('Charlize', 'Theron')\n",
    "print(c)"
   ]
  },
  {
   "cell_type": "code",
   "execution_count": null,
   "metadata": {
    "collapsed": true
   },
   "outputs": [],
   "source": []
  }
 ],
 "metadata": {
  "kernelspec": {
   "display_name": "Python [default]",
   "language": "python",
   "name": "python3"
  },
  "language_info": {
   "codemirror_mode": {
    "name": "ipython",
    "version": 3
   },
   "file_extension": ".py",
   "mimetype": "text/x-python",
   "name": "python",
   "nbconvert_exporter": "python",
   "pygments_lexer": "ipython3",
   "version": "3.5.3"
  }
 },
 "nbformat": 4,
 "nbformat_minor": 2
}
