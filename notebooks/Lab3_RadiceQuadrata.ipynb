{
 "cells": [
  {
   "cell_type": "markdown",
   "metadata": {},
   "source": [
    "## Calcolo della radice quadrata di un numero\n",
    "Le procedure che abbiamo introdotto sino ad ora sono essenzialmente delle **funzioni matematiche** che specificano un valore che viene calcolato a partire da uno o più parametri. A differenze delle funzioni matematiche, le procedure definite al calcolatore devono essere anche **efficienti**, ovvero devono terminare la loro esecuzione in tempo breve. Vediamo ora un semplice esempio di cosa vuol dire avere una procedura efficiente.\n",
    "\n",
    "Prendiamo per esempio la definizione matematica seguente:\n",
    "\n",
    "$$\\sqrt{x} = y \\quad \\mbox{ se e solo se }\\quad y \\geq 0 \\mbox{ e } y^2 = x$$\n",
    "\n",
    "Queste definizione è corretta da un punto di vista matematico e potremmo usarla per controllare se un dato numero sia  la radice quadrata di un altro. Tuttavia, questa definizione non descrive una procedura per calcolare la radice quadrata di un numero.\n",
    "\n",
    "Per poter calcolare la radice quadrata di un numero abbiamo bisogno di un **algoritmo** che viene *implementato* con una o più procedure."
   ]
  },
  {
   "cell_type": "markdown",
   "metadata": {},
   "source": [
    "### Enumerazione esaustiva (forza bruta)\n",
    "Se ci limitiamo a considerare i numeri interi, potremmo utilizzare la definizione precedente per trovare la radice quadrata di un numero intero positivo attraverso un'enumerazione esaustiva: per trovare la radice quadrata di $x$, possiamo provare tutti i numeri da $x$ a 1, e verificare ogni volta se il numero \"tentativo\" sia il quadrato dell'altro. \n",
    "\n",
    "**ESERCIZIO 2.1**: Scrivere una procedura (funzione) che prende in input un numero intero maggiore o uguale a 1, e prova tutti i numeri da $x$ a 1. Se trova la radice quadrata esatta la restituisce, altrimenti restituisce $-1$."
   ]
  },
  {
   "cell_type": "code",
   "execution_count": 1,
   "metadata": {},
   "outputs": [],
   "source": [
    "def Enumerate(y, x):\n",
    "    # print(y)\n",
    "    if y == 0:\n",
    "        return -1\n",
    "    if x == y*y:\n",
    "        return y\n",
    "    return Enumerate(y-1, x)"
   ]
  },
  {
   "cell_type": "code",
   "execution_count": 2,
   "metadata": {},
   "outputs": [
    {
     "name": "stdout",
     "output_type": "stream",
     "text": [
      "4\n"
     ]
    }
   ],
   "source": [
    "print(Enumerate(16, 16))"
   ]
  },
  {
   "cell_type": "code",
   "execution_count": 3,
   "metadata": {},
   "outputs": [
    {
     "name": "stdout",
     "output_type": "stream",
     "text": [
      "-1\n"
     ]
    }
   ],
   "source": [
    "print(Enumerate(15, 15))"
   ]
  },
  {
   "cell_type": "markdown",
   "metadata": {},
   "source": [
    "**DOMANDA:** Come fare per trovare la radice quadrata di un numero reale positivo? \n",
    "\n",
    "**DOMANDA:** Cosa vuol dire che due numeri reali sono **uguali**?\n",
    "\n",
    "**ESEMPIO:** Come viene valutata l'espressione logica: $$\\frac{1}{10}+\\frac{1}{10}+\\frac{1}{10} = \\frac{3}{10}$$"
   ]
  },
  {
   "cell_type": "code",
   "execution_count": 4,
   "metadata": {},
   "outputs": [
    {
     "data": {
      "text/plain": [
       "False"
      ]
     },
     "execution_count": 4,
     "metadata": {},
     "output_type": "execute_result"
    }
   ],
   "source": [
    "1/10+1/10+1/10 == 3/10"
   ]
  },
  {
   "cell_type": "markdown",
   "metadata": {},
   "source": [
    "**NOTA**: Bisogna fare molta attenzione quando si usano i numeri reali al calcolatore!\n",
    "\n",
    "Rivediamo quindi leggermente la definizione di radice quadrata, introducendo il concetto di **tolleranza numerica**. In pratica, cerchiamo un numero reale positivo tale che\n",
    "\n",
    "$$\\sqrt{x} = y \\quad \\mbox{ tale che } \\quad |y^2 - x| < \\epsilon,  \\quad y \\geq 0 $$\n",
    "\n",
    "dove $\\epsilon$ è una costante molto piccola, per esempio $10^{-7}$."
   ]
  },
  {
   "cell_type": "markdown",
   "metadata": {},
   "source": [
    "### Ricerca per bisezione\n",
    "Potremmo cercare di migliorare la procedura di enumerazione esaustiva considerando che i numeri che stiamo controllando sono ordinati. Potremmo evitare di controllare tutti i numeri, uno alla volta, e potremmo cercare di fare dei \"salti\".\n",
    "\n",
    "**ESERCIZIO 2.2**: Scrivere una procedura che, per trovare la radice quadrata di un numero, ogni volta divide l'intervallo di ricerca in due parti uguali, e continua ad esplorare solo la parte in cui effettivamente si può trovare la radice cercata."
   ]
  },
  {
   "cell_type": "code",
   "execution_count": 5,
   "metadata": {},
   "outputs": [],
   "source": [
    "def Abs(x):\n",
    "    if x < 0:\n",
    "        return -x\n",
    "    return x\n",
    "\n",
    "def Istess(a,b):\n",
    "    return Abs(a-b) < 0.0001\n",
    "\n",
    "def SqrtReals(x, a, b):\n",
    "    print(x, a, b)\n",
    "    y = (a+b)/2\n",
    "    if Istess(x, y*y):\n",
    "        return y\n",
    "    else:\n",
    "        if y*y > x:\n",
    "            return SqrtReals(x, a, y)\n",
    "        else:\n",
    "            return SqrtReals(x, y, b)"
   ]
  },
  {
   "cell_type": "code",
   "execution_count": 6,
   "metadata": {},
   "outputs": [
    {
     "name": "stdout",
     "output_type": "stream",
     "text": [
      "36 0 36\n",
      "36 0 18.0\n",
      "36 0 9.0\n",
      "36 4.5 9.0\n",
      "36 4.5 6.75\n",
      "36 5.625 6.75\n",
      "36 5.625 6.1875\n",
      "36 5.90625 6.1875\n",
      "36 5.90625 6.046875\n",
      "36 5.9765625 6.046875\n",
      "36 5.9765625 6.01171875\n",
      "36 5.994140625 6.01171875\n",
      "36 5.994140625 6.0029296875\n",
      "36 5.99853515625 6.0029296875\n",
      "36 5.99853515625 6.000732421875\n",
      "36 5.9996337890625 6.000732421875\n",
      "36 5.9996337890625 6.00018310546875\n",
      "36 5.999908447265625 6.00018310546875\n",
      "36 5.999908447265625 6.0000457763671875\n",
      "36 5.999977111816406 6.0000457763671875\n",
      "36 5.999977111816406 6.000011444091797\n",
      "5.999994277954102\n"
     ]
    }
   ],
   "source": [
    "print(SqrtReals(36, 0, 36))"
   ]
  },
  {
   "cell_type": "markdown",
   "metadata": {},
   "source": [
    "### Il metodo di Newton\n",
    "Il metodo più usato per calcolare la radice quadrata è il metodo di approssimazioni successive introdotto da Newton. Il metodo consiste nel trovare la soluzione attraverso aggiustamenti successivi di una soluzione tentativo: se abbiamo un valore $y$ che dovrebbe essere il valore tentativo della radice quadrata di un altro numero $x$  possiamo ottenere una approssimazione migliore facendo la media tra $y$ e $x/y$. Il metodo di Newtnon consiste quindi di partire da un $y_0$, e ad ogni iterazione di calcolare:\n",
    "\n",
    "$$y_{i+1} = \\frac{y_i + \\frac{x}{y_i}}{2}$$\n",
    "\n",
    "**ESEMPIO:** Ricerca della radice quadrata di 2.\n",
    "\n",
    "| Valore Tentativo $y$ | Quoziente $x/y$ | Media tra $y$ e $x/y$ |\n",
    "|    :--:   |    :--:    |    :--:    |\n",
    "|  1  |  2/1  | (1+2)/2=1.5 | \n",
    "|  1.5  |  2/1.5=1.3333  | (1.3333+1.5)/2=1.4167 |\n",
    "|  1.4167  |  2/1.4167=1.4118  | (1.4118 + 1.4167)/2=1.4142 |\n",
    "| 1.4142 | ... | ... |\n",
    "\n",
    "**ESERCIZIO 2.3**: Scrivere una o più procedure per trovare la radice quadrata di un numero, utilizzando il metodo di Newton scritto sopra."
   ]
  },
  {
   "cell_type": "code",
   "execution_count": 7,
   "metadata": {},
   "outputs": [],
   "source": [
    "def Newton(x, y):\n",
    "    # print(x, x/y, y)\n",
    "    if Istess(x, y*y):\n",
    "        return y\n",
    "    return Newton(x, (y+x/y)/2)"
   ]
  },
  {
   "cell_type": "code",
   "execution_count": 8,
   "metadata": {},
   "outputs": [
    {
     "name": "stdout",
     "output_type": "stream",
     "text": [
      "1.4142156862745097\n"
     ]
    }
   ],
   "source": [
    "print(Newton(2, 1))"
   ]
  },
  {
   "cell_type": "markdown",
   "metadata": {},
   "source": [
    "**DOMANDA:** è possibile trovare un criterio di arresto alternativo, che sia funzione dell'errore commesso nel calcolo della radice quadrata?"
   ]
  },
  {
   "cell_type": "markdown",
   "metadata": {},
   "source": [
    "Studiamo ora come possiamo stimare l'errore del metodo di Newton, senza conoscere il valore esatto di $\\sqrt{x}$. Chiamiamo $E_i$ l'errore di approssimazione che stiamo commettendo:\n",
    "\n",
    "$$E_i = y_i - \\sqrt{x}$$\n",
    "\n",
    "da cui\n",
    "\n",
    "$$y_i = \\sqrt{x} + E_i$$\n",
    "\n",
    "L'errore che commettiamo alla prossima iterazione, sarà pari a\n",
    "\n",
    "$$E_{i+1} = y_{i+1} - \\sqrt{x} = \\frac{y_i + \\frac{x}{y_i}}{2} - \\sqrt{x}$$\n",
    "\n",
    "Facendo un po' di conti a partire dall'espressione precedente, si arriva a far vedere che \n",
    "\n",
    "$$E_{i+1} = \\frac{E_i^2}{2 y_i} > 0$$\n",
    "\n",
    "In pratica, dopo il primo tentativo $y_0$, tutti gli errori successivi saranno sempre positivi. Inoltre l'errore ad ogni iterazione diventa sempre più piccolo, in quanto\n",
    "\n",
    "$$E_i = y_i - \\sqrt{x} < y_i \\quad \\mbox{ e quindi } 0< \\frac{E_i}{y_i} <1$$\n",
    "\n",
    "e inoltre\n",
    "\n",
    "$$E_{i+1} = \\frac{E_i^2}{2 y_i} = \\frac{E_i}{y_i} \\times \\frac{E_i}{2} < \\frac{E_i}{2}$$\n",
    "\n",
    "Riassumendo, abbiamo mostrato che l'errore diventa sempre più piccolo in quanto\n",
    "\n",
    "$$0 < E_{i+1} < \\frac{E_i}{2} < E_i.$$\n",
    "\n",
    "Vediamo ora come possiamo usare le espressioni precedenti per ottenere un criterio di arresto usando una stima sull'errore. Dalle relazioni precedenti abbiamo che\n",
    "\n",
    "$$0 < y_{i+1} - \\sqrt{x} < y_{i} - \\sqrt{x}$$\n",
    "\n",
    "da cui \n",
    "\n",
    "$$\\sqrt{x} < y_{i+1} < y_{i}$$\n",
    "\n",
    "Se riprendiamo la definzione di errore ad una data iterazione, abbiamo che \n",
    "\n",
    "$$E_i = y_i - \\sqrt{x}= y_i - y_{i+1} + y_{i+1} -\\sqrt{x} = (y_i - y_{i+1}) + E_{i+1} < (y_i - y_{i+1}) + \\frac{E_{i}}{2}$$\n",
    "\n",
    "ovvero\n",
    "\n",
    "$$E_{i+1} < \\frac{E_i}{2} < y_i - y_{i+1}.$$\n",
    "\n",
    "In pratica, se si vuole calcolare la radice quadrata di un numero reale positivo con un margine di errore minore di $\\epsilon < 0$, basterà verificare la condizione:\n",
    "\n",
    "$$y_i - y_{i+1} < \\epsilon.$$"
   ]
  },
  {
   "cell_type": "markdown",
   "metadata": {},
   "source": [
    "### Confronto tra le tre funzioni trovate\n",
    "Possiamo provare a fare un piccolo confronto tra le tre funzioni trovate in termini di efficienza, andando a contare, per esempio, quante volte è stata chiamata la funzione ricorsiva. Per poterlo fare, basta aggiungere un parametro formale il quale viene incrementato di uno ogni volta che effettuiamo una chiamata ricorsiva. Tale valore puo' essere stampato a video prima di restituire il valore finale.\n",
    "\n",
    "**ESERCIZIO 2.4**: Modificare le procedure precedenti per contare il numero di chiamate ricorsive con le tre procedure precedenti: (i) enumerazione esaustiva, (ii) metodo di bisezione, e (iii) metodo di Newton."
   ]
  },
  {
   "cell_type": "code",
   "execution_count": null,
   "metadata": {},
   "outputs": [],
   "source": [
    "# DA COMPLETARE"
   ]
  }
 ],
 "metadata": {
  "kernelspec": {
   "display_name": "Python [default]",
   "language": "python",
   "name": "python3"
  },
  "language_info": {
   "codemirror_mode": {
    "name": "ipython",
    "version": 3
   },
   "file_extension": ".py",
   "mimetype": "text/x-python",
   "name": "python",
   "nbconvert_exporter": "python",
   "pygments_lexer": "ipython3",
   "version": "3.5.5"
  }
 },
 "nbformat": 4,
 "nbformat_minor": 2
}
