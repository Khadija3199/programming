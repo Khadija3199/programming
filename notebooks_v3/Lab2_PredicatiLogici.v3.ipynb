{
 "metadata": {
  "kernelspec": {
   "display_name": "Python [default]",
   "language": "python",
   "name": "python3"
  },
  "language_info": {
   "codemirror_mode": {
    "name": "ipython",
    "version": 3
   },
   "file_extension": ".py",
   "mimetype": "text/x-python",
   "name": "python",
   "nbconvert_exporter": "python",
   "pygments_lexer": "ipython3",
   "version": "3.5.5"
  },
  "name": ""
 },
 "nbformat": 3,
 "nbformat_minor": 0,
 "worksheets": [
  {
   "cells": [
    {
     "cell_type": "markdown",
     "metadata": {},
     "source": [
      "## Variabili Booleane ed Espressioni Logiche\n",
      "Una variabile booleana *p* \u00e8 un simbolo che prende un valore booleano: *p* \u00e8 uguale a *vero*, oppure \u00e8 uguale a *falso*, non pu\u00f2 mai assumere i due valori allo stesso tempo, e deve sempre essere uguale a uno (e uno solo) dei due. L'aggettivo *booleano* si deve a [George Boole](https://en.wikipedia.org/wiki/George_Boole), il pioniere della [logica matematica](https://en.wikipedia.org/wiki/Boolean_algebra).\n",
      "\n",
      "In python i due valori booleani sono dei dati primitivi, rappresentati dai simboli `True` e `False`. In pratica, `True` e `False` sono altre due parole chiave (*keyword*) che sono riservate all'interprete del linguaggio, e non possono essere usate per definire variabili o funzioni."
     ]
    },
    {
     "cell_type": "code",
     "collapsed": false,
     "input": [
      "True"
     ],
     "language": "python",
     "metadata": {},
     "outputs": [
      {
       "metadata": {},
       "output_type": "pyout",
       "prompt_number": 1,
       "text": [
        "True"
       ]
      }
     ],
     "prompt_number": 1
    },
    {
     "cell_type": "code",
     "collapsed": false,
     "input": [
      "True = 13"
     ],
     "language": "python",
     "metadata": {},
     "outputs": [
      {
       "ename": "SyntaxError",
       "evalue": "can't assign to keyword (<ipython-input-2-228d079dfe90>, line 1)",
       "output_type": "pyerr",
       "traceback": [
        "\u001b[1;36m  File \u001b[1;32m\"<ipython-input-2-228d079dfe90>\"\u001b[1;36m, line \u001b[1;32m1\u001b[0m\n\u001b[1;33m    True = 13\u001b[0m\n\u001b[1;37m             ^\u001b[0m\n\u001b[1;31mSyntaxError\u001b[0m\u001b[1;31m:\u001b[0m can't assign to keyword\n"
       ]
      }
     ],
     "prompt_number": 2
    },
    {
     "cell_type": "markdown",
     "metadata": {},
     "source": [
      "In qualsiasi linguaggio di programmazione, oltre ad espressioni aritmetiche, \u00e8 possibile valutare delle espressioni logiche, utilizzando gli operatori logici `and`, `or`, e `not`:"
     ]
    },
    {
     "cell_type": "code",
     "collapsed": false,
     "input": [
      "True and False"
     ],
     "language": "python",
     "metadata": {},
     "outputs": [
      {
       "metadata": {},
       "output_type": "pyout",
       "prompt_number": 3,
       "text": [
        "False"
       ]
      }
     ],
     "prompt_number": 3
    },
    {
     "cell_type": "code",
     "collapsed": false,
     "input": [
      "True or False"
     ],
     "language": "python",
     "metadata": {},
     "outputs": [
      {
       "metadata": {},
       "output_type": "pyout",
       "prompt_number": 4,
       "text": [
        "True"
       ]
      }
     ],
     "prompt_number": 4
    },
    {
     "cell_type": "code",
     "collapsed": false,
     "input": [
      "False and False or True"
     ],
     "language": "python",
     "metadata": {},
     "outputs": [
      {
       "metadata": {},
       "output_type": "pyout",
       "prompt_number": 5,
       "text": [
        "True"
       ]
      }
     ],
     "prompt_number": 5
    },
    {
     "cell_type": "code",
     "collapsed": false,
     "input": [
      "True or False and False"
     ],
     "language": "python",
     "metadata": {},
     "outputs": [
      {
       "metadata": {},
       "output_type": "pyout",
       "prompt_number": 6,
       "text": [
        "True"
       ]
      }
     ],
     "prompt_number": 6
    },
    {
     "cell_type": "markdown",
     "metadata": {},
     "source": [
      "**DOMANDA**: guardando gli ultimi due esempi, si riesce a capire se l'operatore `and` ha la precedenza sull'operatore `or`? La descrizione completa delle precedenze sugli operatori si trova nella [documentazione ufficiale](https://docs.python.org/3/reference/expressions.html#operator-precedence)"
     ]
    },
    {
     "cell_type": "markdown",
     "metadata": {},
     "source": [
      "Anche per gli operatori logici \u00e8 possibile usare una notazione prefix, importando la libreria `operator`:"
     ]
    },
    {
     "cell_type": "code",
     "collapsed": false,
     "input": [
      "# Importa dalla libreria solo i tre operatori logici\n",
      "from operator import and_, or_, not_"
     ],
     "language": "python",
     "metadata": {},
     "outputs": [],
     "prompt_number": 7
    },
    {
     "cell_type": "code",
     "collapsed": false,
     "input": [
      "not_(or_(True, and_(False, True)))"
     ],
     "language": "python",
     "metadata": {},
     "outputs": [
      {
       "metadata": {},
       "output_type": "pyout",
       "prompt_number": 8,
       "text": [
        "False"
       ]
      }
     ],
     "prompt_number": 8
    },
    {
     "cell_type": "markdown",
     "metadata": {},
     "source": [
      "In alternativa, per dichiarare una precedenza tra gli operatori si possono usare le parentesi tonde:"
     ]
    },
    {
     "cell_type": "code",
     "collapsed": false,
     "input": [
      "not (True or (False and True))"
     ],
     "language": "python",
     "metadata": {},
     "outputs": [
      {
       "metadata": {},
       "output_type": "pyout",
       "prompt_number": 9,
       "text": [
        "False"
       ]
      }
     ],
     "prompt_number": 9
    },
    {
     "cell_type": "markdown",
     "metadata": {},
     "source": [
      "### Operatori di confronto\n",
      "Oltre agli operatori logici \u00e8 possibile utilizzare gli operatori di confronto seguenti:\n",
      "\n",
      "| Simbolo matematico | Keyword Python | Notazione prefix |\n",
      "|:--:|:--:|:--:|\n",
      "|  $a < b$  | `a < b`   | `lt(a, b)` | \n",
      "|  $a \\leq b$  | `a <= b`   | `le(a, b)` | \n",
      "|  $a > b$  | `a > b`   | `gt(a, b)` | \n",
      "|  $a \\geq b$  | `a >= b`   | `ge(a, b)` | \n",
      "|  $a = b$  | `a == b`   | `eq(a, b)` | \n",
      "\n",
      "**IMPORTANTE:** non si confonda l'operatore di assegnamento `=` con l'operatore di confronto `==`, in quanto hanno due significati completamente diversi.\n"
     ]
    },
    {
     "cell_type": "code",
     "collapsed": false,
     "input": [
      "True == True"
     ],
     "language": "python",
     "metadata": {},
     "outputs": [
      {
       "metadata": {},
       "output_type": "pyout",
       "prompt_number": 10,
       "text": [
        "True"
       ]
      }
     ],
     "prompt_number": 10
    },
    {
     "cell_type": "code",
     "collapsed": false,
     "input": [
      "6*3 < 7*2"
     ],
     "language": "python",
     "metadata": {},
     "outputs": [
      {
       "metadata": {},
       "output_type": "pyout",
       "prompt_number": 11,
       "text": [
        "False"
       ]
      }
     ],
     "prompt_number": 11
    },
    {
     "cell_type": "code",
     "collapsed": false,
     "input": [
      "14*2 == 4*7"
     ],
     "language": "python",
     "metadata": {},
     "outputs": [
      {
       "metadata": {},
       "output_type": "pyout",
       "prompt_number": 12,
       "text": [
        "True"
       ]
      }
     ],
     "prompt_number": 12
    },
    {
     "cell_type": "code",
     "collapsed": false,
     "input": [
      "from operator import lt, le, gt, ge, eq"
     ],
     "language": "python",
     "metadata": {},
     "outputs": [],
     "prompt_number": 13
    },
    {
     "cell_type": "code",
     "collapsed": false,
     "input": [
      "eq(14*2, 4*7)"
     ],
     "language": "python",
     "metadata": {},
     "outputs": [
      {
       "metadata": {},
       "output_type": "pyout",
       "prompt_number": 14,
       "text": [
        "True"
       ]
      }
     ],
     "prompt_number": 14
    },
    {
     "cell_type": "markdown",
     "metadata": {},
     "source": [
      "## Espressioni condizionali e predicati\n",
      "Qualsiasi linguaggio di programmazione deve avere un modo per poter verificare delle condizioni particolari e applicare delle procedure specifiche in base all'esito di tali condizioni. Ovvero, si devono poter definire delle **espressioni condizionali**. In python la sintassi per le espressioni condizionali \u00e8 la seguente:\n",
      "\n",
      "```\n",
      "if <predicato1>:\n",
      "    <body1>\n",
      "elif <predicato2>:\n",
      "    <body2>\n",
      "else:\n",
      "    <body3>\n",
      "```\n",
      "\n",
      "Per **predicato** si intende una *espressione logica* o una procedura (meglio, una **funzione**) che restituisce un valore boolean, ovvero `True` o `False`.\n",
      "\n",
      "Per definire delle espressioni logiche, si possono utilizzare gli operatori di confronto e gli operatori logici (o nuovi predicati definiti nel programma che si sta scrivendo).\n",
      "\n",
      "**ESEMPIO**:"
     ]
    },
    {
     "cell_type": "code",
     "collapsed": false,
     "input": [
      "if not 3 > 4:\n",
      "    a = 3*2\n",
      "else:\n",
      "    a = 4*2"
     ],
     "language": "python",
     "metadata": {},
     "outputs": [],
     "prompt_number": 15
    },
    {
     "cell_type": "code",
     "collapsed": false,
     "input": [
      "a"
     ],
     "language": "python",
     "metadata": {},
     "outputs": [
      {
       "metadata": {},
       "output_type": "pyout",
       "prompt_number": 16,
       "text": [
        "6"
       ]
      }
     ],
     "prompt_number": 16
    },
    {
     "cell_type": "code",
     "collapsed": false,
     "input": [
      "print(a)"
     ],
     "language": "python",
     "metadata": {},
     "outputs": [
      {
       "output_type": "stream",
       "stream": "stdout",
       "text": [
        "6\n"
       ]
      }
     ],
     "prompt_number": 17
    },
    {
     "cell_type": "code",
     "collapsed": false,
     "input": [
      "def Test(x):\n",
      "    return x > 5 and x < 10"
     ],
     "language": "python",
     "metadata": {},
     "outputs": [],
     "prompt_number": 18
    },
    {
     "cell_type": "code",
     "collapsed": false,
     "input": [
      "Test(2)"
     ],
     "language": "python",
     "metadata": {},
     "outputs": [
      {
       "metadata": {},
       "output_type": "pyout",
       "prompt_number": 19,
       "text": [
        "False"
       ]
      }
     ],
     "prompt_number": 19
    },
    {
     "cell_type": "code",
     "collapsed": false,
     "input": [
      "Test(6)"
     ],
     "language": "python",
     "metadata": {},
     "outputs": [
      {
       "metadata": {},
       "output_type": "pyout",
       "prompt_number": 20,
       "text": [
        "True"
       ]
      }
     ],
     "prompt_number": 20
    },
    {
     "cell_type": "code",
     "collapsed": false,
     "input": [
      "def ThreeAnd(x,y,z):\n",
      "    return x and y and z"
     ],
     "language": "python",
     "metadata": {},
     "outputs": [],
     "prompt_number": 21
    },
    {
     "cell_type": "code",
     "collapsed": false,
     "input": [
      "ThreeAnd(2>4, 1<2, 1==3)"
     ],
     "language": "python",
     "metadata": {},
     "outputs": [
      {
       "metadata": {},
       "output_type": "pyout",
       "prompt_number": 22,
       "text": [
        "False"
       ]
      }
     ],
     "prompt_number": 22
    },
    {
     "cell_type": "code",
     "collapsed": false,
     "input": [
      "def Abs(x):\n",
      "    if x >= 0:\n",
      "        return x\n",
      "    else:\n",
      "        return -x"
     ],
     "language": "python",
     "metadata": {},
     "outputs": [],
     "prompt_number": 23
    },
    {
     "cell_type": "code",
     "collapsed": false,
     "input": [
      "Abs(-3)"
     ],
     "language": "python",
     "metadata": {},
     "outputs": [
      {
       "metadata": {},
       "output_type": "pyout",
       "prompt_number": 24,
       "text": [
        "3"
       ]
      }
     ],
     "prompt_number": 24
    },
    {
     "cell_type": "code",
     "collapsed": false,
     "input": [
      "Abs(5)"
     ],
     "language": "python",
     "metadata": {},
     "outputs": [
      {
       "metadata": {},
       "output_type": "pyout",
       "prompt_number": 25,
       "text": [
        "5"
       ]
      }
     ],
     "prompt_number": 25
    },
    {
     "cell_type": "markdown",
     "metadata": {},
     "source": [
      "## Esercizi\n",
      "**ESERCIZIO 1.1**: Viene data sotto una serie di espressioni. Qual \u00e8 il risultato dell'interprete in risposta a ciascuna espressione? Si assuma che la sequenza viene valutata nell'ordine in cui vi viene presentata.\n",
      "\n",
      "```\n",
      "from operator import add, sub, mul\n",
      "10\n",
      "5 + 3 + 4\n",
      "sub(9, 1)\n",
      "add(mul(2, 4), sub(4, 6))\n",
      "a = 3\n",
      "b = add(a, 1)\n",
      "a = b\n",
      "b = add(a, add(b, mul(a, b)))\n",
      "if gt(a, b) = lt(b, mul(a, b)):\n",
      "    print(b)\n",
      "else:\n",
      "    print(a)\n",
      "```\n"
     ]
    },
    {
     "cell_type": "code",
     "collapsed": false,
     "input": [],
     "language": "python",
     "metadata": {},
     "outputs": [],
     "prompt_number": null
    },
    {
     "cell_type": "markdown",
     "metadata": {},
     "source": [
      "**ESERCIZIO 1.2**: Si traduca l'espressione seguente in notazione *prefix*:\n",
      "\n",
      "$\\frac{5+4+(2 - (3 - ( 6 + \\frac{4}{5})))}{3(6-2)(2-7)}$"
     ]
    },
    {
     "cell_type": "code",
     "collapsed": false,
     "input": [],
     "language": "python",
     "metadata": {},
     "outputs": [],
     "prompt_number": null
    },
    {
     "cell_type": "markdown",
     "metadata": {},
     "source": [
      "**ESERCIZIO 1.3:** Si scriva una procedura che prenda tre numeri come argomenti e restituisca la somma dei quadrati dei due numeri pi\u00f9 grandi."
     ]
    },
    {
     "cell_type": "code",
     "collapsed": false,
     "input": [],
     "language": "python",
     "metadata": {},
     "outputs": [],
     "prompt_number": null
    },
    {
     "cell_type": "markdown",
     "metadata": {},
     "source": [
      "**ESERCIZIO 1.4:** Si osservi che il modello di valutazione dell'interprete visto sino ad ora permette la valutazione di procedure in cui si hanno procedure composte. Si osservi l'esempio seguente e si commenti il comportamento dell'interprete in questo caso:"
     ]
    },
    {
     "cell_type": "code",
     "collapsed": false,
     "input": [
      "def F(a, b):\n",
      "    if b > 0:\n",
      "        return add\n",
      "    else:\n",
      "        return sub\n",
      "    \n",
      "def G(a, b):\n",
      "    return F(a,b)(a,b)"
     ],
     "language": "python",
     "metadata": {},
     "outputs": [],
     "prompt_number": null
    },
    {
     "cell_type": "code",
     "collapsed": false,
     "input": [
      "G(-2,-3)"
     ],
     "language": "python",
     "metadata": {},
     "outputs": [],
     "prompt_number": null
    },
    {
     "cell_type": "markdown",
     "metadata": {},
     "source": [
      "**ESERCIZIO 1.5:** Il sig. Bit ha inventato un test per determinare se l'interprete del linguaggio che sta usando segue un *applicative-order evaluation* oppure un *normal-order evaluation*. L'idea \u00e8 di definire due procedure:"
     ]
    },
    {
     "cell_type": "code",
     "collapsed": false,
     "input": [
      "def P():\n",
      "    return P()"
     ],
     "language": "python",
     "metadata": {},
     "outputs": [],
     "prompt_number": null
    },
    {
     "cell_type": "code",
     "collapsed": false,
     "input": [
      "def Test(x, y):\n",
      "    if x == 0:\n",
      "        return 0\n",
      "    else:\n",
      "        return y"
     ],
     "language": "python",
     "metadata": {},
     "outputs": [],
     "prompt_number": null
    },
    {
     "cell_type": "markdown",
     "metadata": {},
     "source": [
      "e poi de valutare l'espressione:\n",
      "\n",
      "```\n",
      "Test(0,P())\n",
      "```\n",
      "\n",
      "Quale comportamento osserver\u00e0 il signor Bit con un interprete che usa una *applicative-order evaluation*? Quale comportamento osserver\u00e0 con un interprete che usa una *normal-order evaluation*? Spiegare la risposta data."
     ]
    },
    {
     "cell_type": "code",
     "collapsed": false,
     "input": [
      "Test(0,P())"
     ],
     "language": "python",
     "metadata": {},
     "outputs": [],
     "prompt_number": null
    },
    {
     "cell_type": "code",
     "collapsed": false,
     "input": [],
     "language": "python",
     "metadata": {},
     "outputs": [],
     "prompt_number": null
    }
   ],
   "metadata": {}
  }
 ]
}
